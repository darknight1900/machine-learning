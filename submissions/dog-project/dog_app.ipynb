{
 "cells": [
  {
   "cell_type": "markdown",
   "metadata": {},
   "source": [
    "# Artificial Intelligence Nanodegree\n",
    "\n",
    "## Convolutional Neural Networks\n",
    "\n",
    "## Project: Write an Algorithm for a Dog Identification App \n",
    "\n",
    "---\n",
    "\n",
    "In this notebook, some template code has already been provided for you, and you will need to implement additional functionality to successfully complete this project. You will not need to modify the included code beyond what is requested. Sections that begin with **'(IMPLEMENTATION)'** in the header indicate that the following block of code will require additional functionality which you must provide. Instructions will be provided for each section, and the specifics of the implementation are marked in the code block with a 'TODO' statement. Please be sure to read the instructions carefully! \n",
    "\n",
    "> **Note**: Once you have completed all of the code implementations, you need to finalize your work by exporting the iPython Notebook as an HTML document. Before exporting the notebook to html, all of the code cells need to have been run so that reviewers can see the final implementation and output. You can then export the notebook by using the menu above and navigating to  \\n\",\n",
    "    \"**File -> Download as -> HTML (.html)**. Include the finished document along with this notebook as your submission.\n",
    "\n",
    "In addition to implementing code, there will be questions that you must answer which relate to the project and your implementation. Each section where you will answer a question is preceded by a **'Question X'** header. Carefully read each question and provide thorough answers in the following text boxes that begin with **'Answer:'**. Your project submission will be evaluated based on your answers to each of the questions and the implementation you provide.\n",
    "\n",
    ">**Note:** Code and Markdown cells can be executed using the **Shift + Enter** keyboard shortcut.  Markdown cells can be edited by double-clicking the cell to enter edit mode.\n",
    "\n",
    "The rubric contains _optional_ \"Stand Out Suggestions\" for enhancing the project beyond the minimum requirements. If you decide to pursue the \"Stand Out Suggestions\", you should include the code in this IPython notebook.\n",
    "\n",
    "\n",
    "\n",
    "---\n",
    "### Why We're Here \n",
    "\n",
    "In this notebook, you will make the first steps towards developing an algorithm that could be used as part of a mobile or web app.  At the end of this project, your code will accept any user-supplied image as input.  If a dog is detected in the image, it will provide an estimate of the dog's breed.  If a human is detected, it will provide an estimate of the dog breed that is most resembling.  The image below displays potential sample output of your finished project (... but we expect that each student's algorithm will behave differently!). \n",
    "\n",
    "![Sample Dog Output](images/sample_dog_output.png)\n",
    "\n",
    "In this real-world setting, you will need to piece together a series of models to perform different tasks; for instance, the algorithm that detects humans in an image will be different from the CNN that infers dog breed.  There are many points of possible failure, and no perfect algorithm exists.  Your imperfect solution will nonetheless create a fun user experience!\n",
    "\n",
    "### The Road Ahead\n",
    "\n",
    "We break the notebook into separate steps.  Feel free to use the links below to navigate the notebook.\n",
    "\n",
    "* [Step 0](#step0): Import Datasets\n",
    "* [Step 1](#step1): Detect Humans\n",
    "* [Step 2](#step2): Detect Dogs\n",
    "* [Step 3](#step3): Create a CNN to Classify Dog Breeds (from Scratch)\n",
    "* [Step 4](#step4): Use a CNN to Classify Dog Breeds (using Transfer Learning)\n",
    "* [Step 5](#step5): Create a CNN to Classify Dog Breeds (using Transfer Learning)\n",
    "* [Step 6](#step6): Write your Algorithm\n",
    "* [Step 7](#step7): Test Your Algorithm\n",
    "\n",
    "---\n",
    "<a id='step0'></a>\n",
    "## Step 0: Import Datasets\n",
    "\n",
    "### Import Dog Dataset\n",
    "\n",
    "In the code cell below, we import a dataset of dog images.  We populate a few variables through the use of the `load_files` function from the scikit-learn library:\n",
    "- `train_files`, `valid_files`, `test_files` - numpy arrays containing file paths to images\n",
    "- `train_targets`, `valid_targets`, `test_targets` - numpy arrays containing onehot-encoded classification labels \n",
    "- `dog_names` - list of string-valued dog breed names for translating labels"
   ]
  },
  {
   "cell_type": "code",
   "execution_count": 8,
   "metadata": {},
   "outputs": [
    {
     "name": "stdout",
     "output_type": "stream",
     "text": [
      "There are 133 total dog categories.\n",
      "There are 8351 total dog images.\n",
      "\n",
      "There are 6680 training dog images.\n",
      "There are 835 validation dog images.\n",
      "There are 836 test dog images.\n"
     ]
    }
   ],
   "source": [
    "from sklearn.datasets import load_files       \n",
    "from keras.utils import np_utils\n",
    "import numpy as np\n",
    "from glob import glob\n",
    "\n",
    "# define function to load train, test, and validation datasets\n",
    "def load_dataset(path):\n",
    "    data = load_files(path)\n",
    "    dog_files = np.array(data['filenames'])\n",
    "    dog_targets = np_utils.to_categorical(np.array(data['target']), 133)\n",
    "    return dog_files, dog_targets\n",
    "\n",
    "# load train, test, and validation datasets\n",
    "train_files, train_targets = load_dataset('dogImages/train')\n",
    "valid_files, valid_targets = load_dataset('dogImages/valid')\n",
    "test_files, test_targets = load_dataset('dogImages/test')\n",
    "\n",
    "# load list of dog names\n",
    "dog_names = [item[20:-1] for item in sorted(glob(\"dogImages/train/*/\"))]\n",
    "\n",
    "# print statistics about the dataset\n",
    "print('There are %d total dog categories.' % len(dog_names))\n",
    "print('There are %s total dog images.\\n' % len(np.hstack([train_files, valid_files, test_files])))\n",
    "print('There are %d training dog images.' % len(train_files))\n",
    "print('There are %d validation dog images.' % len(valid_files))\n",
    "print('There are %d test dog images.'% len(test_files))"
   ]
  },
  {
   "cell_type": "markdown",
   "metadata": {},
   "source": [
    "### Import Human Dataset\n",
    "\n",
    "In the code cell below, we import a dataset of human images, where the file paths are stored in the numpy array `human_files`."
   ]
  },
  {
   "cell_type": "code",
   "execution_count": 9,
   "metadata": {},
   "outputs": [
    {
     "name": "stdout",
     "output_type": "stream",
     "text": [
      "There are 13233 total human images.\n"
     ]
    }
   ],
   "source": [
    "import random\n",
    "random.seed(8675309)\n",
    "\n",
    "# load filenames in shuffled human dataset\n",
    "human_files = np.array(glob(\"lfw/*/*\"))\n",
    "random.shuffle(human_files)\n",
    "\n",
    "# print statistics about the dataset\n",
    "print('There are %d total human images.' % len(human_files))"
   ]
  },
  {
   "cell_type": "markdown",
   "metadata": {},
   "source": [
    "---\n",
    "<a id='step1'></a>\n",
    "## Step 1: Detect Humans\n",
    "\n",
    "We use OpenCV's implementation of [Haar feature-based cascade classifiers](http://docs.opencv.org/trunk/d7/d8b/tutorial_py_face_detection.html) to detect human faces in images.  OpenCV provides many pre-trained face detectors, stored as XML files on [github](https://github.com/opencv/opencv/tree/master/data/haarcascades).  We have downloaded one of these detectors and stored it in the `haarcascades` directory.\n",
    "\n",
    "In the next code cell, we demonstrate how to use this detector to find human faces in a sample image."
   ]
  },
  {
   "cell_type": "code",
   "execution_count": 3,
   "metadata": {},
   "outputs": [
    {
     "name": "stdout",
     "output_type": "stream",
     "text": [
      "Number of faces detected: 1\n"
     ]
    },
    {
     "data": {
      "image/png": "[encoded data removed]",
      "text/plain": [
       "<matplotlib.figure.Figure at 0x7fdae18796d8>"
      ]
     },
     "metadata": {},
     "output_type": "display_data"
    }
   ],
   "source": [
    "import cv2                \n",
    "import matplotlib.pyplot as plt                        \n",
    "%matplotlib inline                               \n",
    "\n",
    "# extract pre-trained face detector\n",
    "face_cascade = cv2.CascadeClassifier('haarcascades/haarcascade_frontalface_alt.xml')\n",
    "\n",
    "# load color (BGR) image\n",
    "img = cv2.imread(human_files[3])\n",
    "# convert BGR image to grayscale\n",
    "gray = cv2.cvtColor(img, cv2.COLOR_BGR2GRAY)\n",
    "\n",
    "# find faces in image\n",
    "faces = face_cascade.detectMultiScale(gray)\n",
    "\n",
    "# print number of faces detected in the image\n",
    "print('Number of faces detected:', len(faces))\n",
    "\n",
    "# get bounding box for each detected face\n",
    "for (x,y,w,h) in faces:\n",
    "    # add bounding box to color image\n",
    "    cv2.rectangle(img,(x,y),(x+w,y+h),(255,0,0),2)\n",
    "    \n",
    "# convert BGR image to RGB for plotting\n",
    "cv_rgb = cv2.cvtColor(img, cv2.COLOR_BGR2RGB)\n",
    "\n",
    "# display the image, along with bounding box\n",
    "plt.imshow(cv_rgb)\n",
    "plt.show()"
   ]
  },
  {
   "cell_type": "markdown",
   "metadata": {},
   "source": [
    "Before using any of the face detectors, it is standard procedure to convert the images to grayscale.  The `detectMultiScale` function executes the classifier stored in `face_cascade` and takes the grayscale image as a parameter.  \n",
    "\n",
    "In the above code, `faces` is a numpy array of detected faces, where each row corresponds to a detected face.  Each detected face is a 1D array with four entries that specifies the bounding box of the detected face.  The first two entries in the array (extracted in the above code as `x` and `y`) specify the horizontal and vertical positions of the top left corner of the bounding box.  The last two entries in the array (extracted here as `w` and `h`) specify the width and height of the box.\n",
    "\n",
    "### Write a Human Face Detector\n",
    "\n",
    "We can use this procedure to write a function that returns `True` if a human face is detected in an image and `False` otherwise.  This function, aptly named `face_detector`, takes a string-valued file path to an image as input and appears in the code block below."
   ]
  },
  {
   "cell_type": "code",
   "execution_count": 4,
   "metadata": {},
   "outputs": [],
   "source": [
    "# returns \"True\" if face is detected in image stored at img_path\n",
    "def face_detector(img_path):\n",
    "    img = cv2.imread(img_path)\n",
    "    gray = cv2.cvtColor(img, cv2.COLOR_BGR2GRAY)\n",
    "    faces = face_cascade.detectMultiScale(gray)\n",
    "    return len(faces) > 0"
   ]
  },
  {
   "cell_type": "markdown",
   "metadata": {},
   "source": [
    "### (IMPLEMENTATION) Assess the Human Face Detector\n",
    "\n",
    "__Question 1:__ Use the code cell below to test the performance of the `face_detector` function.  \n",
    "- What percentage of the first 100 images in `human_files` have a detected human face?  \n",
    "- What percentage of the first 100 images in `dog_files` have a detected human face? \n",
    "\n",
    "Ideally, we would like 100% of human images with a detected face and 0% of dog images with a detected face.  You will see that our algorithm falls short of this goal, but still gives acceptable performance.  We extract the file paths for the first 100 images from each of the datasets and store them in the numpy arrays `human_files_short` and `dog_files_short`.\n",
    "\n",
    "__Answer:__ "
   ]
  },
  {
   "cell_type": "code",
   "execution_count": 5,
   "metadata": {},
   "outputs": [
    {
     "name": "stdout",
     "output_type": "stream",
     "text": [
      "human_detected 100 dog_detected 11\n"
     ]
    }
   ],
   "source": [
    "human_files_short = human_files[:100]\n",
    "dog_files_short = train_files[:100]\n",
    "# Do NOT modify the code above this line.\n",
    "\n",
    "## Test the performance of the face_detector algorithm \n",
    "\n",
    "human_detected = 0\n",
    "for img in human_files_short:\n",
    "    if face_detector(img):\n",
    "        human_detected +=1 \n",
    "\n",
    "dog_detected = 0\n",
    "for img in dog_files_short:\n",
    "    if face_detector(img):\n",
    "        dog_detected +=1 \n",
    "print('human_detected', human_detected, 'dog_detected', dog_detected)\n",
    "\n",
    "## on the images in human_files_short and dog_files_short."
   ]
  },
  {
   "cell_type": "markdown",
   "metadata": {},
   "source": [
    "- Out of 100 human images, we have detected human face with 100% \n",
    "- Out of 100 dog images, we have detected human face with 11% "
   ]
  },
  {
   "cell_type": "markdown",
   "metadata": {},
   "source": [
    "__Question 2:__ This algorithmic choice necessitates that we communicate to the user that we accept human images only when they provide a clear view of a face (otherwise, we risk having unneccessarily frustrated users!). In your opinion, is this a reasonable expectation to pose on the user? If not, can you think of a way to detect humans in images that does not necessitate an image with a clearly presented face?\n",
    "\n",
    "__Answer:__\n",
    "\n",
    "We suggest the face detector from OpenCV as a potential way to detect human images in your algorithm, but you are free to explore other approaches, especially approaches that make use of deep learning :).  Please use the code cell below to design and test your own face detection algorithm.  If you decide to pursue this _optional_ task, report performance on each of the datasets."
   ]
  },
  {
   "cell_type": "markdown",
   "metadata": {},
   "source": [
    "Haar cascades algorithm is not an ideal way to detect humans are it requires the input image to have a clear face. \n",
    "To address this issue, I used a deep learning approach to detect whether the input image are a dog or a human.\n",
    "\n",
    "I only used the dog and human dataset provided by this project and there is only two lables in my deep learning network: `(dog, human)`\n",
    "    "
   ]
  },
  {
   "cell_type": "code",
   "execution_count": 2,
   "metadata": {},
   "outputs": [
    {
     "name": "stderr",
     "output_type": "stream",
     "text": [
      "Using TensorFlow backend.\n"
     ]
    }
   ],
   "source": [
    "from keras.preprocessing.image import ImageDataGenerator\n",
    "from keras.models import Sequential\n",
    "from keras.layers import Dense, Dropout, Activation, Flatten\n",
    "from keras.layers import Conv2D, MaxPooling2D, Lambda, GlobalAveragePooling2D\n",
    "from keras.utils  import to_categorical\n",
    "from keras.preprocessing import image                  \n",
    "import cv2"
   ]
  },
  {
   "cell_type": "code",
   "execution_count": 3,
   "metadata": {},
   "outputs": [],
   "source": [
    "def path_to_tensor_cv(img_path):\n",
    "    # loads RGB image as PIL.Image.Image type\n",
    "    img = cv2.imread(img_path)\n",
    "    img = cv2.cvtColor(img, cv2.COLOR_BGR2RGB)\n",
    "    img = cv2.resize(img, (224, 224))\n",
    "    # convert PIL.Image.Image type to 3D tensor with shape (224, 224, 3)\n",
    "    x = image.img_to_array(img)\n",
    "    # convert 3D tensor to 4D tensor with shape (1, 224, 224, 3) and return 4D tensor\n",
    "    return np.expand_dims(x, axis=0)\n",
    "\n",
    "def paths_to_tensor_cv(img_paths):\n",
    "    list_of_tensors = [path_to_tensor_cv(img_path) for img_path in img_paths]\n",
    "    return np.vstack(list_of_tensors)"
   ]
  },
  {
   "cell_type": "code",
   "execution_count": 10,
   "metadata": {},
   "outputs": [
    {
     "name": "stdout",
     "output_type": "stream",
     "text": [
      "dog_files_used 6680 human_files_used 8866\n"
     ]
    }
   ],
   "source": [
    "from sklearn.utils import shuffle\n",
    "from sklearn.model_selection import train_test_split\n",
    "\n",
    "dog_files = train_files;\n",
    "human_files = shuffle(human_files, random_state=42)\n",
    "dog_files = shuffle(dog_files, random_state=42)\n",
    "\n",
    "human_train_files, human_test_files = train_test_split(human_files, test_size=0.33, random_state=42)\n",
    "\n",
    "total_dog_files = len(dog_files)\n",
    "total_human_files = len(human_train_files)\n",
    "\n",
    "print('dog_files_used', total_dog_files, 'human_files_used', total_human_files)\n",
    "# prepare y_train data \n",
    "y_humans = np.ones(total_human_files)\n",
    "y_dogs = np.zeros(total_dog_files)\n",
    "\n",
    "y_train = np.concatenate((y_humans, y_dogs), axis=0)\n",
    "y_train = y_train.reshape(-1,1).astype(int)\n",
    "y_train = to_categorical(y_train, num_classes=2)\n"
   ]
  },
  {
   "cell_type": "code",
   "execution_count": 11,
   "metadata": {},
   "outputs": [],
   "source": [
    "# load human and dog images\n",
    "human_images = paths_to_tensor_cv(human_train_files)\n",
    "dog_images = paths_to_tensor_cv(train_files)"
   ]
  },
  {
   "cell_type": "code",
   "execution_count": 12,
   "metadata": {},
   "outputs": [],
   "source": [
    "X_train = np.concatenate((human_images, dog_images))"
   ]
  },
  {
   "cell_type": "code",
   "execution_count": null,
   "metadata": {},
   "outputs": [],
   "source": []
  },
  {
   "cell_type": "code",
   "execution_count": 13,
   "metadata": {},
   "outputs": [
    {
     "name": "stdout",
     "output_type": "stream",
     "text": [
      "_________________________________________________________________\n",
      "Layer (type)                 Output Shape              Param #   \n",
      "=================================================================\n",
      "lambda_1 (Lambda)            (None, 224, 224, 3)       0         \n",
      "_________________________________________________________________\n",
      "conv2d_1 (Conv2D)            (None, 224, 224, 3)       84        \n",
      "_________________________________________________________________\n",
      "conv2d_2 (Conv2D)            (None, 224, 224, 6)       168       \n",
      "_________________________________________________________________\n",
      "dropout_1 (Dropout)          (None, 224, 224, 6)       0         \n",
      "_________________________________________________________________\n",
      "max_pooling2d_1 (MaxPooling2 (None, 111, 111, 6)       0         \n",
      "_________________________________________________________________\n",
      "conv2d_3 (Conv2D)            (None, 111, 111, 24)      1320      \n",
      "_________________________________________________________________\n",
      "max_pooling2d_2 (MaxPooling2 (None, 55, 55, 24)        0         \n",
      "_________________________________________________________________\n",
      "dropout_2 (Dropout)          (None, 55, 55, 24)        0         \n",
      "_________________________________________________________________\n",
      "flatten_1 (Flatten)          (None, 72600)             0         \n",
      "_________________________________________________________________\n",
      "dense_1 (Dense)              (None, 64)                4646464   \n",
      "_________________________________________________________________\n",
      "dense_2 (Dense)              (None, 2)                 130       \n",
      "=================================================================\n",
      "Total params: 4,648,166\n",
      "Trainable params: 4,648,166\n",
      "Non-trainable params: 0\n",
      "_________________________________________________________________\n"
     ]
    }
   ],
   "source": [
    "model_dl = Sequential()\n",
    "# Preprocess the data\n",
    "model_dl.add(Lambda(lambda x: (x / 255.0) - 0.5, input_shape=X_train.shape[1:]))\n",
    "    \n",
    "model_dl.add(Conv2D(3, kernel_size = (3, 3), strides=(1, 1), activation='relu', padding='same'))\n",
    "model_dl.add(Conv2D(6, kernel_size = (3, 3), strides=(1, 1), activation='relu', padding='same'))\n",
    "model_dl.add(Dropout(0.25))\n",
    "model_dl.add(MaxPooling2D(pool_size=(3, 3), strides=(2, 2)))\n",
    "\n",
    "model_dl.add(Conv2D(24, kernel_size = (3, 3), strides=(1, 1), activation='relu', padding='same'))\n",
    "model_dl.add(MaxPooling2D(pool_size=(3, 3), strides=(2, 2)))\n",
    "model_dl.add(Dropout(0.25))\n",
    "model_dl.add(Flatten())\n",
    "model_dl.add(Dense(64, activation='relu'))\n",
    "model_dl.add(Dense(2, activation='softmax'))\n",
    "model_dl.compile(optimizer='adam', loss='categorical_crossentropy', metrics=['accuracy'])\n",
    "model_dl.summary()"
   ]
  },
  {
   "cell_type": "code",
   "execution_count": 12,
   "metadata": {},
   "outputs": [
    {
     "name": "stdout",
     "output_type": "stream",
     "text": [
      "Train on 10882 samples, validate on 4664 samples\n",
      "Epoch 1/5\n",
      "10880/10882 [============================>.] - ETA: 0s - loss: 1.8712 - acc: 0.8126Epoch 00000: val_loss improved from inf to 0.80531, saving model to saved_models/weights.human.detector\n",
      "10882/10882 [==============================] - 293s - loss: 1.8710 - acc: 0.8126 - val_loss: 0.8053 - val_acc: 0.0000e+00\n",
      "Epoch 2/5\n",
      "10880/10882 [============================>.] - ETA: 0s - loss: 0.2122 - acc: 0.9256Epoch 00001: val_loss improved from 0.80531 to 0.22417, saving model to saved_models/weights.human.detector\n",
      "10882/10882 [==============================] - 273s - loss: 0.2122 - acc: 0.9256 - val_loss: 0.2242 - val_acc: 0.9063\n",
      "Epoch 3/5\n",
      "10880/10882 [============================>.] - ETA: 0s - loss: 0.0364 - acc: 0.9870Epoch 00002: val_loss improved from 0.22417 to 0.12973, saving model to saved_models/weights.human.detector\n",
      "10882/10882 [==============================] - 278s - loss: 0.0364 - acc: 0.9870 - val_loss: 0.1297 - val_acc: 0.9479\n",
      "Epoch 4/5\n",
      "10880/10882 [============================>.] - ETA: 0s - loss: 0.0168 - acc: 0.9943Epoch 00003: val_loss improved from 0.12973 to 0.06230, saving model to saved_models/weights.human.detector\n",
      "10882/10882 [==============================] - 275s - loss: 0.0168 - acc: 0.9943 - val_loss: 0.0623 - val_acc: 0.9747\n",
      "Epoch 5/5\n",
      "10880/10882 [============================>.] - ETA: 0s - loss: 0.0097 - acc: 0.9970Epoch 00004: val_loss did not improve\n",
      "10882/10882 [==============================] - 282s - loss: 0.0097 - acc: 0.9970 - val_loss: 0.0688 - val_acc: 0.9730\n"
     ]
    },
    {
     "data": {
      "text/plain": [
       "<keras.callbacks.History at 0x7fdac0a4cba8>"
      ]
     },
     "execution_count": 12,
     "metadata": {},
     "output_type": "execute_result"
    }
   ],
   "source": [
    "### Train the model.\n",
    "from keras.callbacks import ModelCheckpoint \n",
    "\n",
    "checkpointer = ModelCheckpoint(filepath='saved_models/weights.human.detector', \n",
    "                               verbose=1, save_best_only=True)\n",
    "\n",
    "model_dl.fit(X_train, y_train, \n",
    "          validation_split=0.3,\n",
    "          epochs=5, batch_size=128, callbacks=[checkpointer], verbose=1)"
   ]
  },
  {
   "cell_type": "code",
   "execution_count": 14,
   "metadata": {},
   "outputs": [],
   "source": [
    "# define a human detector and will return True if the input is a human and false if is dog\n",
    "model_dl.load_weights('saved_models/weights.human.detector')\n",
    "def is_human_detector(img_path):\n",
    "    img = path_to_tensor_cv(img_path)\n",
    "    y = model_dl.predict(img)\n",
    "    y = np.squeeze(y, axis=0)\n",
    "    if y[1] > y[0]:\n",
    "        return True\n",
    "    return False\n"
   ]
  },
  {
   "cell_type": "code",
   "execution_count": 16,
   "metadata": {},
   "outputs": [
    {
     "name": "stdout",
     "output_type": "stream",
     "text": [
      "human_detected_correct_ratio 0.998 dog_detected 0.975\n"
     ]
    }
   ],
   "source": [
    "human_test_files = human_test_files\n",
    "dog_test_files = test_files\n",
    "\n",
    "\n",
    "human_detected = 0\n",
    "for img in human_test_files:\n",
    "    if is_human_detector(img):\n",
    "        human_detected +=1 \n",
    "human_correct_ratio = float(human_detected) / len(human_test_files)\n",
    "\n",
    "dog_detected = 0\n",
    "for img in dog_test_files:\n",
    "    if not is_human_detector(img):\n",
    "        dog_detected +=1\n",
    "\n",
    "dog_correct_ratio = float(dog_detected) / len(dog_test_files)\n",
    "\n",
    "        \n",
    "print('human_detected_correct_ratio', round(human_correct_ratio, 3), 'dog_detected', round(dog_correct_ratio, 3))"
   ]
  },
  {
   "cell_type": "markdown",
   "metadata": {},
   "source": [
    "### *Discussion*\n",
    "\n",
    "From above results, the deep learning approach can detect 99.9% human correctly on human dataset."
   ]
  },
  {
   "cell_type": "markdown",
   "metadata": {},
   "source": [
    "---\n",
    "<a id='step2'></a>\n",
    "## Step 2: Detect Dogs\n",
    "\n",
    "In this section, we use a pre-trained [ResNet-50](http://ethereon.github.io/netscope/#/gist/db945b393d40bfa26006) model to detect dogs in images.  Our first line of code downloads the ResNet-50 model, along with weights that have been trained on [ImageNet](http://www.image-net.org/), a very large, very popular dataset used for image classification and other vision tasks.  ImageNet contains over 10 million URLs, each linking to an image containing an object from one of [1000 categories](https://gist.github.com/yrevar/942d3a0ac09ec9e5eb3a).  Given an image, this pre-trained ResNet-50 model returns a prediction (derived from the available categories in ImageNet) for the object that is contained in the image."
   ]
  },
  {
   "cell_type": "code",
   "execution_count": 28,
   "metadata": {},
   "outputs": [],
   "source": [
    "from keras.applications.resnet50 import ResNet50\n",
    "\n",
    "# define ResNet50 model\n",
    "ResNet50_model = ResNet50(weights='imagenet')"
   ]
  },
  {
   "cell_type": "markdown",
   "metadata": {},
   "source": [
    "### Pre-process the Data\n",
    "\n",
    "When using TensorFlow as backend, Keras CNNs require a 4D array (which we'll also refer to as a 4D tensor) as input, with shape\n",
    "\n",
    "$$\n",
    "(\\text{nb_samples}, \\text{rows}, \\text{columns}, \\text{channels}),\n",
    "$$\n",
    "\n",
    "where `nb_samples` corresponds to the total number of images (or samples), and `rows`, `columns`, and `channels` correspond to the number of rows, columns, and channels for each image, respectively.  \n",
    "\n",
    "The `path_to_tensor` function below takes a string-valued file path to a color image as input and returns a 4D tensor suitable for supplying to a Keras CNN.  The function first loads the image and resizes it to a square image that is $224 \\times 224$ pixels.  Next, the image is converted to an array, which is then resized to a 4D tensor.  In this case, since we are working with color images, each image has three channels.  Likewise, since we are processing a single image (or sample), the returned tensor will always have shape\n",
    "\n",
    "$$\n",
    "(1, 224, 224, 3).\n",
    "$$\n",
    "\n",
    "The `paths_to_tensor` function takes a numpy array of string-valued image paths as input and returns a 4D tensor with shape \n",
    "\n",
    "$$\n",
    "(\\text{nb_samples}, 224, 224, 3).\n",
    "$$\n",
    "\n",
    "Here, `nb_samples` is the number of samples, or number of images, in the supplied array of image paths.  It is best to think of `nb_samples` as the number of 3D tensors (where each 3D tensor corresponds to a different image) in your dataset!"
   ]
  },
  {
   "cell_type": "code",
   "execution_count": 18,
   "metadata": {},
   "outputs": [],
   "source": [
    "from keras.preprocessing import image                  \n",
    "from tqdm import tqdm\n",
    "\n",
    "def path_to_tensor(img_path):\n",
    "    # loads RGB image as PIL.Image.Image type\n",
    "    img = image.load_img(img_path, target_size=(224, 224))\n",
    "    # convert PIL.Image.Image type to 3D tensor with shape (224, 224, 3)\n",
    "    x = image.img_to_array(img)\n",
    "    # convert 3D tensor to 4D tensor with shape (1, 224, 224, 3) and return 4D tensor\n",
    "    return np.expand_dims(x, axis=0)\n",
    "\n",
    "def paths_to_tensor(img_paths):\n",
    "    list_of_tensors = [path_to_tensor(img_path) for img_path in tqdm(img_paths)]\n",
    "    return np.vstack(list_of_tensors)"
   ]
  },
  {
   "cell_type": "markdown",
   "metadata": {},
   "source": [
    "### Making Predictions with ResNet-50\n",
    "\n",
    "Getting the 4D tensor ready for ResNet-50, and for any other pre-trained model in Keras, requires some additional processing.  First, the RGB image is converted to BGR by reordering the channels.  All pre-trained models have the additional normalization step that the mean pixel (expressed in RGB as $[103.939, 116.779, 123.68]$ and calculated from all pixels in all images in ImageNet) must be subtracted from every pixel in each image.  This is implemented in the imported function `preprocess_input`.  If you're curious, you can check the code for `preprocess_input` [here](https://github.com/fchollet/keras/blob/master/keras/applications/imagenet_utils.py).\n",
    "\n",
    "Now that we have a way to format our image for supplying to ResNet-50, we are now ready to use the model to extract the predictions.  This is accomplished with the `predict` method, which returns an array whose $i$-th entry is the model's predicted probability that the image belongs to the $i$-th ImageNet category.  This is implemented in the `ResNet50_predict_labels` function below.\n",
    "\n",
    "By taking the argmax of the predicted probability vector, we obtain an integer corresponding to the model's predicted object class, which we can identify with an object category through the use of this [dictionary](https://gist.github.com/yrevar/942d3a0ac09ec9e5eb3a). "
   ]
  },
  {
   "cell_type": "code",
   "execution_count": 15,
   "metadata": {},
   "outputs": [],
   "source": [
    "from keras.applications.resnet50 import preprocess_input, decode_predictions\n",
    "\n",
    "def ResNet50_predict_labels(img_path):\n",
    "    # returns prediction vector for image located at img_path\n",
    "    img = preprocess_input(path_to_tensor_cv(img_path))\n",
    "    return np.argmax(ResNet50_model.predict(img))"
   ]
  },
  {
   "cell_type": "markdown",
   "metadata": {},
   "source": [
    "### Write a Dog Detector\n",
    "\n",
    "While looking at the [dictionary](https://gist.github.com/yrevar/942d3a0ac09ec9e5eb3a), you will notice that the categories corresponding to dogs appear in an uninterrupted sequence and correspond to dictionary keys 151-268, inclusive, to include all categories from `'Chihuahua'` to `'Mexican hairless'`.  Thus, in order to check to see if an image is predicted to contain a dog by the pre-trained ResNet-50 model, we need only check if the `ResNet50_predict_labels` function above returns a value between 151 and 268 (inclusive).\n",
    "\n",
    "We use these ideas to complete the `dog_detector` function below, which returns `True` if a dog is detected in an image (and `False` if not)."
   ]
  },
  {
   "cell_type": "code",
   "execution_count": 16,
   "metadata": {},
   "outputs": [],
   "source": [
    "### returns \"True\" if a dog is detected in the image stored at img_path\n",
    "def dog_detector(img_path):\n",
    "    prediction = ResNet50_predict_labels(img_path)\n",
    "    return ((prediction <= 268) & (prediction >= 151)) "
   ]
  },
  {
   "cell_type": "markdown",
   "metadata": {},
   "source": [
    "### (IMPLEMENTATION) Assess the Dog Detector\n",
    "\n",
    "__Question 3:__ Use the code cell below to test the performance of your `dog_detector` function.  \n",
    "- What percentage of the images in `human_files_short` have a detected dog?  \n",
    "- What percentage of the images in `dog_files_short` have a detected dog?\n",
    "\n",
    "__Answer:__ "
   ]
  },
  {
   "cell_type": "code",
   "execution_count": 21,
   "metadata": {},
   "outputs": [],
   "source": [
    "### Test the performance of the dog_detector function\n",
    "### on the images in human_files_short and dog_files_short.\n",
    "\n",
    "human_files_short = human_files[:100]\n",
    "dog_files_short = train_files[:100]\n",
    "\n",
    "dog_detected1 = 0\n",
    "for img in human_files_short:\n",
    "    if dog_detector(img):\n",
    "        dog_detected1 +=1 \n",
    "\n",
    "dog_detected2 = 0\n",
    "for img in dog_files_short:\n",
    "    if dog_detector(img):\n",
    "        dog_detected2 +=1 \n",
    "        "
   ]
  },
  {
   "cell_type": "code",
   "execution_count": 22,
   "metadata": {},
   "outputs": [
    {
     "name": "stdout",
     "output_type": "stream",
     "text": [
      "dog_detected on human files 1 dog_detected on dog files 100\n"
     ]
    }
   ],
   "source": [
    "print('dog_detected on human files', dog_detected1, 'dog_detected on dog files', dog_detected2)"
   ]
  },
  {
   "cell_type": "markdown",
   "metadata": {},
   "source": [
    "- 0% of images in `human_files_short` have a detected dog\n",
    "- 100% of images in `dog_files_short` have a detected dog"
   ]
  },
  {
   "cell_type": "markdown",
   "metadata": {},
   "source": [
    "---\n",
    "<a id='step3'></a>\n",
    "## Step 3: Create a CNN to Classify Dog Breeds (from Scratch)\n",
    "\n",
    "Now that we have functions for detecting humans and dogs in images, we need a way to predict breed from images.  In this step, you will create a CNN that classifies dog breeds.  You must create your CNN _from scratch_ (so, you can't use transfer learning _yet_!), and you must attain a test accuracy of at least 1%.  In Step 5 of this notebook, you will have the opportunity to use transfer learning to create a CNN that attains greatly improved accuracy.\n",
    "\n",
    "Be careful with adding too many trainable layers!  More parameters means longer training, which means you are more likely to need a GPU to accelerate the training process.  Thankfully, Keras provides a handy estimate of the time that each epoch is likely to take; you can extrapolate this estimate to figure out how long it will take for your algorithm to train. \n",
    "\n",
    "We mention that the task of assigning breed to dogs from images is considered exceptionally challenging.  To see why, consider that *even a human* would have great difficulty in distinguishing between a Brittany and a Welsh Springer Spaniel.  \n",
    "\n",
    "Brittany | Welsh Springer Spaniel\n",
    "- | - \n",
    "<img src=\"images/Brittany_02625.jpg\" width=\"100\"> | <img src=\"images/Welsh_springer_spaniel_08203.jpg\" width=\"200\">\n",
    "\n",
    "It is not difficult to find other dog breed pairs with minimal inter-class variation (for instance, Curly-Coated Retrievers and American Water Spaniels).  \n",
    "\n",
    "Curly-Coated Retriever | American Water Spaniel\n",
    "- | -\n",
    "<img src=\"images/Curly-coated_retriever_03896.jpg\" width=\"200\"> | <img src=\"images/American_water_spaniel_00648.jpg\" width=\"200\">\n",
    "\n",
    "\n",
    "Likewise, recall that labradors come in yellow, chocolate, and black.  Your vision-based algorithm will have to conquer this high intra-class variation to determine how to classify all of these different shades as the same breed.  \n",
    "\n",
    "Yellow Labrador | Chocolate Labrador | Black Labrador\n",
    "- | -\n",
    "<img src=\"images/Labrador_retriever_06457.jpg\" width=\"150\"> | <img src=\"images/Labrador_retriever_06455.jpg\" width=\"240\"> | <img src=\"images/Labrador_retriever_06449.jpg\" width=\"220\">\n",
    "\n",
    "We also mention that random chance presents an exceptionally low bar: setting aside the fact that the classes are slightly imabalanced, a random guess will provide a correct answer roughly 1 in 133 times, which corresponds to an accuracy of less than 1%.  \n",
    "\n",
    "Remember that the practice is far ahead of the theory in deep learning.  Experiment with many different architectures, and trust your intuition.  And, of course, have fun! \n",
    "\n",
    "### Pre-process the Data\n",
    "\n",
    "We rescale the images by dividing every pixel in every image by 255."
   ]
  },
  {
   "cell_type": "code",
   "execution_count": 23,
   "metadata": {},
   "outputs": [],
   "source": [
    "from PIL import ImageFile                            \n",
    "\n",
    "# pre-process the data for Keras\n",
    "train_tensors = paths_to_tensor_cv(train_files).astype('float32')/255\n",
    "valid_tensors = paths_to_tensor_cv(valid_files).astype('float32')/255\n",
    "test_tensors = paths_to_tensor_cv(test_files).astype('float32')/255"
   ]
  },
  {
   "cell_type": "markdown",
   "metadata": {},
   "source": [
    "### (IMPLEMENTATION) Model Architecture\n",
    "\n",
    "Create a CNN to classify dog breed.  At the end of your code cell block, summarize the layers of your model by executing the line:\n",
    "    \n",
    "        model.summary()\n",
    "\n",
    "We have imported some Python modules to get you started, but feel free to import as many modules as you need.  If you end up getting stuck, here's a hint that specifies a model that trains relatively fast on CPU and attains >1% test accuracy in 5 epochs:\n",
    "\n",
    "![Sample CNN](images/sample_cnn.png)\n",
    "           \n",
    "__Question 4:__ Outline the steps you took to get to your final CNN architecture and your reasoning at each step.  If you chose to use the hinted architecture above, describe why you think that CNN architecture should work well for the image classification task.\n",
    "\n",
    "__Answer:__ \n",
    "\n",
    "In this project, as we are trying to detect objects from images, therefore most of our layers should be 2d CNN layer. I first stack one `3x3x6` and one `3x3x24` cnn layers together there. And after that, I added one max pooling layer to prevent overfiting. Then, I have a global average pooling layer to further reduce the chance of overfiting and also to reduce the total number of tranable parameters. Finally, I have a dense layer with `133` labels to predict which label the input image belongs to. with this model, I am able to achieve 1.9% accurancy on the test image set. I think if I stack more CNN layers, the accuracy will increase significantly.  "
   ]
  },
  {
   "cell_type": "code",
   "execution_count": 29,
   "metadata": {},
   "outputs": [
    {
     "name": "stdout",
     "output_type": "stream",
     "text": [
      "_________________________________________________________________\n",
      "Layer (type)                 Output Shape              Param #   \n",
      "=================================================================\n",
      "conv2d_6 (Conv2D)            (None, 222, 222, 6)       168       \n",
      "_________________________________________________________________\n",
      "conv2d_7 (Conv2D)            (None, 220, 220, 24)      1320      \n",
      "_________________________________________________________________\n",
      "max_pooling2d_5 (MaxPooling2 (None, 110, 110, 24)      0         \n",
      "_________________________________________________________________\n",
      "global_average_pooling2d_2 ( (None, 24)                0         \n",
      "_________________________________________________________________\n",
      "dense_4 (Dense)              (None, 133)               3325      \n",
      "=================================================================\n",
      "Total params: 4,813\n",
      "Trainable params: 4,813\n",
      "Non-trainable params: 0\n",
      "_________________________________________________________________\n"
     ]
    }
   ],
   "source": [
    "from keras.layers import Conv2D, MaxPooling2D, GlobalAveragePooling2D\n",
    "from keras.layers import Dropout, Flatten, Dense\n",
    "from keras.models import Sequential\n",
    "###  Define your architecture.\n",
    "IMG_SHAPE = path_to_tensor_cv(train_files[0]).shape\n",
    "model = Sequential()\n",
    "model.add(Conv2D(6, (3, 3), activation='relu', input_shape=IMG_SHAPE[1:]))\n",
    "model.add(Conv2D(24, (3, 3), activation='relu'))\n",
    "model.add(MaxPooling2D())\n",
    "model.add(GlobalAveragePooling2D())\n",
    "model.add(Dense(133, activation='softmax'))\n",
    "\n",
    "model.summary()"
   ]
  },
  {
   "cell_type": "markdown",
   "metadata": {},
   "source": [
    "### Compile the Model"
   ]
  },
  {
   "cell_type": "code",
   "execution_count": 30,
   "metadata": {},
   "outputs": [],
   "source": [
    "model.compile(optimizer='adam', loss='categorical_crossentropy', metrics=['accuracy'])"
   ]
  },
  {
   "cell_type": "markdown",
   "metadata": {},
   "source": [
    "### (IMPLEMENTATION) Train the Model\n",
    "\n",
    "Train your model in the code cell below.  Use model checkpointing to save the model that attains the best validation loss.\n",
    "\n",
    "You are welcome to [augment the training data](https://blog.keras.io/building-powerful-image-classification-models-using-very-little-data.html), but this is not a requirement. "
   ]
  },
  {
   "cell_type": "code",
   "execution_count": 31,
   "metadata": {},
   "outputs": [
    {
     "name": "stdout",
     "output_type": "stream",
     "text": [
      "Train on 6680 samples, validate on 835 samples\n",
      "Epoch 1/10\n",
      "6656/6680 [============================>.] - ETA: 0s - loss: 4.8878 - acc: 0.0090Epoch 00000: val_loss improved from inf to 4.88030, saving model to saved_models/weights.best.from_scratch.hdf5\n",
      "6680/6680 [==============================] - 195s - loss: 4.8878 - acc: 0.0090 - val_loss: 4.8803 - val_acc: 0.0108\n",
      "Epoch 2/10\n",
      "6656/6680 [============================>.] - ETA: 0s - loss: 4.8761 - acc: 0.0111Epoch 00001: val_loss improved from 4.88030 to 4.87035, saving model to saved_models/weights.best.from_scratch.hdf5\n",
      "6680/6680 [==============================] - 195s - loss: 4.8759 - acc: 0.0111 - val_loss: 4.8704 - val_acc: 0.0108\n",
      "Epoch 3/10\n",
      "6656/6680 [============================>.] - ETA: 0s - loss: 4.8681 - acc: 0.0108Epoch 00002: val_loss improved from 4.87035 to 4.86663, saving model to saved_models/weights.best.from_scratch.hdf5\n",
      "6680/6680 [==============================] - 193s - loss: 4.8679 - acc: 0.0109 - val_loss: 4.8666 - val_acc: 0.0108\n",
      "Epoch 4/10\n",
      "6656/6680 [============================>.] - ETA: 0s - loss: 4.8636 - acc: 0.0108Epoch 00003: val_loss improved from 4.86663 to 4.86368, saving model to saved_models/weights.best.from_scratch.hdf5\n",
      "6680/6680 [==============================] - 193s - loss: 4.8637 - acc: 0.0109 - val_loss: 4.8637 - val_acc: 0.0108\n",
      "Epoch 5/10\n",
      "6656/6680 [============================>.] - ETA: 0s - loss: 4.8591 - acc: 0.0126Epoch 00004: val_loss improved from 4.86368 to 4.85835, saving model to saved_models/weights.best.from_scratch.hdf5\n",
      "6680/6680 [==============================] - 193s - loss: 4.8591 - acc: 0.0126 - val_loss: 4.8583 - val_acc: 0.0168\n",
      "Epoch 6/10\n",
      "6656/6680 [============================>.] - ETA: 0s - loss: 4.8505 - acc: 0.0146Epoch 00005: val_loss improved from 4.85835 to 4.85035, saving model to saved_models/weights.best.from_scratch.hdf5\n",
      "6680/6680 [==============================] - 194s - loss: 4.8507 - acc: 0.0147 - val_loss: 4.8503 - val_acc: 0.0204\n",
      "Epoch 7/10\n",
      "6656/6680 [============================>.] - ETA: 0s - loss: 4.8380 - acc: 0.0173Epoch 00006: val_loss improved from 4.85035 to 4.83883, saving model to saved_models/weights.best.from_scratch.hdf5\n",
      "6680/6680 [==============================] - 196s - loss: 4.8382 - acc: 0.0172 - val_loss: 4.8388 - val_acc: 0.0216\n",
      "Epoch 8/10\n",
      "6656/6680 [============================>.] - ETA: 0s - loss: 4.8185 - acc: 0.0173Epoch 00007: val_loss improved from 4.83883 to 4.82322, saving model to saved_models/weights.best.from_scratch.hdf5\n",
      "6680/6680 [==============================] - 195s - loss: 4.8183 - acc: 0.0174 - val_loss: 4.8232 - val_acc: 0.0144\n",
      "Epoch 9/10\n",
      "6656/6680 [============================>.] - ETA: 0s - loss: 4.7948 - acc: 0.0197Epoch 00008: val_loss improved from 4.82322 to 4.80964, saving model to saved_models/weights.best.from_scratch.hdf5\n",
      "6680/6680 [==============================] - 194s - loss: 4.7948 - acc: 0.0198 - val_loss: 4.8096 - val_acc: 0.0168\n",
      "Epoch 10/10\n",
      "6656/6680 [============================>.] - ETA: 0s - loss: 4.7760 - acc: 0.0186Epoch 00009: val_loss improved from 4.80964 to 4.80098, saving model to saved_models/weights.best.from_scratch.hdf5\n",
      "6680/6680 [==============================] - 200s - loss: 4.7763 - acc: 0.0186 - val_loss: 4.8010 - val_acc: 0.0144\n"
     ]
    },
    {
     "data": {
      "text/plain": [
       "<keras.callbacks.History at 0x7fd5d122ab70>"
      ]
     },
     "execution_count": 31,
     "metadata": {},
     "output_type": "execute_result"
    }
   ],
   "source": [
    "from keras.callbacks import ModelCheckpoint  \n",
    "\n",
    "### TODO: specify the number of epochs that you would like to use to train the model.\n",
    "\n",
    "epochs = 10\n",
    "\n",
    "### Do NOT modify the code below this line.\n",
    "\n",
    "checkpointer = ModelCheckpoint(filepath='saved_models/weights.best.from_scratch.hdf5', \n",
    "                               verbose=1, save_best_only=True)\n",
    "\n",
    "model.fit(train_tensors, train_targets, \n",
    "          validation_data=(valid_tensors, valid_targets),\n",
    "          epochs=epochs, batch_size=64, callbacks=[checkpointer], verbose=1)"
   ]
  },
  {
   "cell_type": "markdown",
   "metadata": {},
   "source": [
    "### Load the Model with the Best Validation Loss"
   ]
  },
  {
   "cell_type": "code",
   "execution_count": 32,
   "metadata": {},
   "outputs": [],
   "source": [
    "model.load_weights('saved_models/weights.best.from_scratch.hdf5')"
   ]
  },
  {
   "cell_type": "markdown",
   "metadata": {},
   "source": [
    "### Test the Model\n",
    "\n",
    "Try out your model on the test dataset of dog images.  Ensure that your test accuracy is greater than 1%."
   ]
  },
  {
   "cell_type": "code",
   "execution_count": 33,
   "metadata": {},
   "outputs": [
    {
     "name": "stdout",
     "output_type": "stream",
     "text": [
      "Test accuracy: 2.1531%\n"
     ]
    }
   ],
   "source": [
    "# get index of predicted dog breed for each image in test set\n",
    "dog_breed_predictions = [np.argmax(model.predict(np.expand_dims(tensor, axis=0))) for tensor in test_tensors]\n",
    "\n",
    "# report test accuracy\n",
    "test_accuracy = 100*np.sum(np.array(dog_breed_predictions)==np.argmax(test_targets, axis=1))/len(dog_breed_predictions)\n",
    "print('Test accuracy: %.4f%%' % test_accuracy)"
   ]
  },
  {
   "cell_type": "markdown",
   "metadata": {},
   "source": [
    "---\n",
    "<a id='step4'></a>\n",
    "## Step 4: Use a CNN to Classify Dog Breeds\n",
    "\n",
    "To reduce training time without sacrificing accuracy, we show you how to train a CNN using transfer learning.  In the following step, you will get a chance to use transfer learning to train your own CNN.\n",
    "\n",
    "### Obtain Bottleneck Features"
   ]
  },
  {
   "cell_type": "code",
   "execution_count": 34,
   "metadata": {},
   "outputs": [],
   "source": [
    "bottleneck_features = np.load('bottleneck_features/DogVGG16Data.npz')\n",
    "train_VGG16 = bottleneck_features['train']\n",
    "valid_VGG16 = bottleneck_features['valid']\n",
    "test_VGG16 = bottleneck_features['test']"
   ]
  },
  {
   "cell_type": "markdown",
   "metadata": {},
   "source": [
    "### Model Architecture\n",
    "\n",
    "The model uses the the pre-trained VGG-16 model as a fixed feature extractor, where the last convolutional output of VGG-16 is fed as input to our model.  We only add a global average pooling layer and a fully connected layer, where the latter contains one node for each dog category and is equipped with a softmax."
   ]
  },
  {
   "cell_type": "code",
   "execution_count": 35,
   "metadata": {},
   "outputs": [
    {
     "name": "stdout",
     "output_type": "stream",
     "text": [
      "_________________________________________________________________\n",
      "Layer (type)                 Output Shape              Param #   \n",
      "=================================================================\n",
      "conv2d_8 (Conv2D)            (None, 7, 7, 12)          6156      \n",
      "_________________________________________________________________\n",
      "conv2d_9 (Conv2D)            (None, 7, 7, 24)          2616      \n",
      "_________________________________________________________________\n",
      "max_pooling2d_6 (MaxPooling2 (None, 4, 4, 24)          0         \n",
      "_________________________________________________________________\n",
      "dropout_3 (Dropout)          (None, 4, 4, 24)          0         \n",
      "_________________________________________________________________\n",
      "conv2d_10 (Conv2D)           (None, 4, 4, 48)          10416     \n",
      "_________________________________________________________________\n",
      "conv2d_11 (Conv2D)           (None, 4, 4, 48)          20784     \n",
      "_________________________________________________________________\n",
      "max_pooling2d_7 (MaxPooling2 (None, 2, 2, 48)          0         \n",
      "_________________________________________________________________\n",
      "dropout_4 (Dropout)          (None, 2, 2, 48)          0         \n",
      "_________________________________________________________________\n",
      "global_average_pooling2d_3 ( (None, 48)                0         \n",
      "_________________________________________________________________\n",
      "dense_5 (Dense)              (None, 133)               6517      \n",
      "=================================================================\n",
      "Total params: 46,489\n",
      "Trainable params: 46,489\n",
      "Non-trainable params: 0\n",
      "_________________________________________________________________\n"
     ]
    }
   ],
   "source": [
    "VGG16_model = Sequential()\n",
    "VGG16_model.add(Conv2D(filters=12, kernel_size=1, padding='same', activation='relu', input_shape=train_VGG16.shape[1:]))\n",
    "VGG16_model.add(Conv2D(filters=24, kernel_size=3, padding='same', activation='relu'))\n",
    "VGG16_model.add(MaxPooling2D(padding='same'))\n",
    "VGG16_model.add(Dropout(0.25))\n",
    "\n",
    "VGG16_model.add(Conv2D(filters=48, kernel_size=3, padding='same', activation='relu'))\n",
    "VGG16_model.add(Conv2D(filters=48, kernel_size=3, padding='same', activation='relu'))\n",
    "VGG16_model.add(MaxPooling2D(padding='same'))\n",
    "VGG16_model.add(Dropout(0.25))\n",
    "\n",
    "VGG16_model.add(GlobalAveragePooling2D())\n",
    "VGG16_model.add(Dense(133, activation='softmax'))\n",
    "VGG16_model.summary()"
   ]
  },
  {
   "cell_type": "markdown",
   "metadata": {},
   "source": [
    "### Compile the Model"
   ]
  },
  {
   "cell_type": "code",
   "execution_count": 36,
   "metadata": {},
   "outputs": [],
   "source": [
    "VGG16_model.compile(loss='categorical_crossentropy', optimizer='rmsprop', metrics=['accuracy'])"
   ]
  },
  {
   "cell_type": "markdown",
   "metadata": {},
   "source": [
    "### Train the Model"
   ]
  },
  {
   "cell_type": "code",
   "execution_count": 37,
   "metadata": {},
   "outputs": [
    {
     "name": "stdout",
     "output_type": "stream",
     "text": [
      "Train on 6680 samples, validate on 835 samples\n",
      "Epoch 1/20\n",
      "6528/6680 [============================>.] - ETA: 0s - loss: 4.9029 - acc: 0.0193Epoch 00000: val_loss improved from inf to 4.55152, saving model to saved_models/weights.best.VGG16.hdf5\n",
      "6680/6680 [==============================] - 2s - loss: 4.8967 - acc: 0.0193 - val_loss: 4.5515 - val_acc: 0.0503\n",
      "Epoch 2/20\n",
      "6528/6680 [============================>.] - ETA: 0s - loss: 4.1914 - acc: 0.0774Epoch 00001: val_loss improved from 4.55152 to 3.65244, saving model to saved_models/weights.best.VGG16.hdf5\n",
      "6680/6680 [==============================] - 2s - loss: 4.1798 - acc: 0.0786 - val_loss: 3.6524 - val_acc: 0.1521\n",
      "Epoch 3/20\n",
      "6528/6680 [============================>.] - ETA: 0s - loss: 3.3925 - acc: 0.1716Epoch 00002: val_loss improved from 3.65244 to 2.94097, saving model to saved_models/weights.best.VGG16.hdf5\n",
      "6680/6680 [==============================] - 1s - loss: 3.3799 - acc: 0.1746 - val_loss: 2.9410 - val_acc: 0.2407\n",
      "Epoch 4/20\n",
      "6592/6680 [============================>.] - ETA: 0s - loss: 2.7728 - acc: 0.2688Epoch 00003: val_loss improved from 2.94097 to 2.41994, saving model to saved_models/weights.best.VGG16.hdf5\n",
      "6680/6680 [==============================] - 1s - loss: 2.7728 - acc: 0.2692 - val_loss: 2.4199 - val_acc: 0.3365\n",
      "Epoch 5/20\n",
      "6592/6680 [============================>.] - ETA: 0s - loss: 2.3831 - acc: 0.3418Epoch 00004: val_loss improved from 2.41994 to 2.06958, saving model to saved_models/weights.best.VGG16.hdf5\n",
      "6680/6680 [==============================] - 2s - loss: 2.3790 - acc: 0.3419 - val_loss: 2.0696 - val_acc: 0.4120\n",
      "Epoch 6/20\n",
      "6528/6680 [============================>.] - ETA: 0s - loss: 2.0670 - acc: 0.4043Epoch 00005: val_loss improved from 2.06958 to 1.91976, saving model to saved_models/weights.best.VGG16.hdf5\n",
      "6680/6680 [==============================] - 1s - loss: 2.0708 - acc: 0.4022 - val_loss: 1.9198 - val_acc: 0.4611\n",
      "Epoch 7/20\n",
      "6592/6680 [============================>.] - ETA: 0s - loss: 1.8724 - acc: 0.4507Epoch 00006: val_loss improved from 1.91976 to 1.83080, saving model to saved_models/weights.best.VGG16.hdf5\n",
      "6680/6680 [==============================] - 1s - loss: 1.8684 - acc: 0.4513 - val_loss: 1.8308 - val_acc: 0.4695\n",
      "Epoch 8/20\n",
      "6656/6680 [============================>.] - ETA: 0s - loss: 1.6890 - acc: 0.4919Epoch 00007: val_loss improved from 1.83080 to 1.80069, saving model to saved_models/weights.best.VGG16.hdf5\n",
      "6680/6680 [==============================] - 1s - loss: 1.6883 - acc: 0.4919 - val_loss: 1.8007 - val_acc: 0.4790\n",
      "Epoch 9/20\n",
      "6592/6680 [============================>.] - ETA: 0s - loss: 1.5258 - acc: 0.5343Epoch 00008: val_loss improved from 1.80069 to 1.62738, saving model to saved_models/weights.best.VGG16.hdf5\n",
      "6680/6680 [==============================] - 1s - loss: 1.5262 - acc: 0.5338 - val_loss: 1.6274 - val_acc: 0.5257\n",
      "Epoch 10/20\n",
      "6528/6680 [============================>.] - ETA: 0s - loss: 1.4478 - acc: 0.5585Epoch 00009: val_loss did not improve\n",
      "6680/6680 [==============================] - 1s - loss: 1.4426 - acc: 0.5590 - val_loss: 1.6811 - val_acc: 0.5210\n",
      "Epoch 11/20\n",
      "6528/6680 [============================>.] - ETA: 0s - loss: 1.3497 - acc: 0.5844Epoch 00010: val_loss improved from 1.62738 to 1.56112, saving model to saved_models/weights.best.VGG16.hdf5\n",
      "6680/6680 [==============================] - 1s - loss: 1.3471 - acc: 0.5855 - val_loss: 1.5611 - val_acc: 0.5533\n",
      "Epoch 12/20\n",
      "6656/6680 [============================>.] - ETA: 0s - loss: 1.2739 - acc: 0.6074Epoch 00011: val_loss improved from 1.56112 to 1.44481, saving model to saved_models/weights.best.VGG16.hdf5\n",
      "6680/6680 [==============================] - 1s - loss: 1.2741 - acc: 0.6073 - val_loss: 1.4448 - val_acc: 0.5629\n",
      "Epoch 13/20\n",
      "6528/6680 [============================>.] - ETA: 0s - loss: 1.1980 - acc: 0.6213Epoch 00012: val_loss did not improve\n",
      "6680/6680 [==============================] - 1s - loss: 1.2001 - acc: 0.6214 - val_loss: 1.4708 - val_acc: 0.5581\n",
      "Epoch 14/20\n",
      "6656/6680 [============================>.] - ETA: 0s - loss: 1.1406 - acc: 0.6387Epoch 00013: val_loss did not improve\n",
      "6680/6680 [==============================] - 1s - loss: 1.1415 - acc: 0.6382 - val_loss: 1.5975 - val_acc: 0.5497\n",
      "Epoch 15/20\n",
      "6656/6680 [============================>.] - ETA: 0s - loss: 1.0924 - acc: 0.6519Epoch 00014: val_loss improved from 1.44481 to 1.42028, saving model to saved_models/weights.best.VGG16.hdf5\n",
      "6680/6680 [==============================] - 1s - loss: 1.0910 - acc: 0.6524 - val_loss: 1.4203 - val_acc: 0.5796\n",
      "Epoch 16/20\n",
      "6656/6680 [============================>.] - ETA: 0s - loss: 1.0314 - acc: 0.6683Epoch 00015: val_loss improved from 1.42028 to 1.39724, saving model to saved_models/weights.best.VGG16.hdf5\n",
      "6680/6680 [==============================] - 2s - loss: 1.0313 - acc: 0.6684 - val_loss: 1.3972 - val_acc: 0.6024\n",
      "Epoch 17/20\n",
      "6528/6680 [============================>.] - ETA: 0s - loss: 1.0228 - acc: 0.6680Epoch 00016: val_loss did not improve\n",
      "6680/6680 [==============================] - 1s - loss: 1.0224 - acc: 0.6686 - val_loss: 1.4896 - val_acc: 0.5928\n",
      "Epoch 18/20\n",
      "6592/6680 [============================>.] - ETA: 0s - loss: 0.9639 - acc: 0.6969Epoch 00017: val_loss did not improve\n",
      "6680/6680 [==============================] - 2s - loss: 0.9683 - acc: 0.6963 - val_loss: 1.4060 - val_acc: 0.6120\n",
      "Epoch 19/20\n",
      "6528/6680 [============================>.] - ETA: 0s - loss: 0.9358 - acc: 0.7031Epoch 00018: val_loss improved from 1.39724 to 1.37470, saving model to saved_models/weights.best.VGG16.hdf5\n",
      "6680/6680 [==============================] - 1s - loss: 0.9359 - acc: 0.7031 - val_loss: 1.3747 - val_acc: 0.5976\n",
      "Epoch 20/20\n",
      "6464/6680 [============================>.] - ETA: 0s - loss: 0.8880 - acc: 0.7106Epoch 00019: val_loss improved from 1.37470 to 1.31253, saving model to saved_models/weights.best.VGG16.hdf5\n",
      "6680/6680 [==============================] - 2s - loss: 0.8903 - acc: 0.7102 - val_loss: 1.3125 - val_acc: 0.6347\n"
     ]
    },
    {
     "data": {
      "text/plain": [
       "<keras.callbacks.History at 0x7fd5d0dd9da0>"
      ]
     },
     "execution_count": 37,
     "metadata": {},
     "output_type": "execute_result"
    }
   ],
   "source": [
    "from keras.callbacks import ModelCheckpoint \n",
    "\n",
    "checkpointer = ModelCheckpoint(filepath='saved_models/weights.best.VGG16.hdf5', \n",
    "                               verbose=1, save_best_only=True)\n",
    "\n",
    "VGG16_model.fit(train_VGG16, train_targets, \n",
    "          validation_data=(valid_VGG16, valid_targets),\n",
    "          epochs=20, batch_size=64, callbacks=[checkpointer], verbose=1)"
   ]
  },
  {
   "cell_type": "markdown",
   "metadata": {},
   "source": [
    "### Load the Model with the Best Validation Loss"
   ]
  },
  {
   "cell_type": "code",
   "execution_count": 39,
   "metadata": {},
   "outputs": [],
   "source": [
    "VGG16_model.load_weights('saved_models/weights.best.VGG16.hdf5')"
   ]
  },
  {
   "cell_type": "markdown",
   "metadata": {},
   "source": [
    "### Test the Model\n",
    "\n",
    "Now, we can use the CNN to test how well it identifies breed within our test dataset of dog images.  We print the test accuracy below."
   ]
  },
  {
   "cell_type": "code",
   "execution_count": 40,
   "metadata": {},
   "outputs": [
    {
     "name": "stdout",
     "output_type": "stream",
     "text": [
      "Test accuracy: 63.3971%\n"
     ]
    }
   ],
   "source": [
    "# get index of predicted dog breed for each image in test set\n",
    "VGG16_predictions = [np.argmax(VGG16_model.predict(np.expand_dims(feature, axis=0))) for feature in test_VGG16]\n",
    "\n",
    "# report test accuracy\n",
    "test_accuracy = 100*np.sum(np.array(VGG16_predictions)==np.argmax(test_targets, axis=1))/len(VGG16_predictions)\n",
    "print('Test accuracy: %.4f%%' % test_accuracy)"
   ]
  },
  {
   "cell_type": "markdown",
   "metadata": {},
   "source": [
    "### Predict Dog Breed with the Model"
   ]
  },
  {
   "cell_type": "code",
   "execution_count": 30,
   "metadata": {},
   "outputs": [],
   "source": [
    "from extract_bottleneck_features import *\n",
    "\n",
    "def VGG16_predict_breed(img_path):\n",
    "    # extract bottleneck features\n",
    "    bottleneck_feature = extract_VGG16(path_to_tensor_cv(img_path))\n",
    "    # obtain predicted vector\n",
    "    predicted_vector = VGG16_model.predict(bottleneck_feature)\n",
    "    # return dog breed that is predicted by the model\n",
    "    return dog_names[np.argmax(predicted_vector)]\n",
    "\n"
   ]
  },
  {
   "cell_type": "code",
   "execution_count": 42,
   "metadata": {},
   "outputs": [
    {
     "name": "stdout",
     "output_type": "stream",
     "text": [
      "precit: Dalmatian shoud be: Dalmatian\n",
      "precit: Bedlington_terrier shoud be: Bedlington_terrier\n",
      "precit: Afghan_hound shoud be: Afghan_hound\n"
     ]
    }
   ],
   "source": [
    "\n",
    "print('precit:', VGG16_predict_breed(test_files[0]), 'shoud be:', dog_names[np.argmax(test_targets[0])])\n",
    "print('precit:', VGG16_predict_breed(test_files[3]), 'shoud be:', dog_names[np.argmax(test_targets[3])])\n",
    "print('precit:', VGG16_predict_breed(test_files[10]), 'shoud be:', dog_names[np.argmax(test_targets[10])])\n"
   ]
  },
  {
   "cell_type": "markdown",
   "metadata": {},
   "source": [
    "---\n",
    "<a id='step5'></a>\n",
    "## Step 5: Create a CNN to Classify Dog Breeds (using Transfer Learning)\n",
    "\n",
    "You will now use transfer learning to create a CNN that can identify dog breed from images.  Your CNN must attain at least 60% accuracy on the test set.\n",
    "\n",
    "In Step 4, we used transfer learning to create a CNN using VGG-16 bottleneck features.  In this section, you must use the bottleneck features from a different pre-trained model.  To make things easier for you, we have pre-computed the features for all of the networks that are currently available in Keras:\n",
    "- [VGG-19](https://s3-us-west-1.amazonaws.com/udacity-aind/dog-project/DogVGG19Data.npz) bottleneck features\n",
    "- [ResNet-50](https://s3-us-west-1.amazonaws.com/udacity-aind/dog-project/DogResnet50Data.npz) bottleneck features\n",
    "- [Inception](https://s3-us-west-1.amazonaws.com/udacity-aind/dog-project/DogInceptionV3Data.npz) bottleneck features\n",
    "- [Xception](https://s3-us-west-1.amazonaws.com/udacity-aind/dog-project/DogXceptionData.npz) bottleneck features\n",
    "\n",
    "The files are encoded as such:\n",
    "\n",
    "    Dog{network}Data.npz\n",
    "    \n",
    "where `{network}`, in the above filename, can be one of `VGG19`, `Resnet50`, `InceptionV3`, or `Xception`.  Pick one of the above architectures, download the corresponding bottleneck features, and store the downloaded file in the `bottleneck_features/` folder in the repository.\n",
    "\n",
    "### (IMPLEMENTATION) Obtain Bottleneck Features\n",
    "\n",
    "In the code block below, extract the bottleneck features corresponding to the train, test, and validation sets by running the following:\n",
    "\n",
    "    bottleneck_features = np.load('bottleneck_features/Dog{network}Data.npz')\n",
    "    train_{network} = bottleneck_features['train']\n",
    "    valid_{network} = bottleneck_features['valid']\n",
    "    test_{network} = bottleneck_features['test']"
   ]
  },
  {
   "cell_type": "code",
   "execution_count": 20,
   "metadata": {},
   "outputs": [],
   "source": [
    "### Obtain bottleneck features from another pre-trained CNN.\n",
    "\n",
    "network = 'InceptionV3'\n",
    "bottleneck_features = np.load('bottleneck_features/Dog{}Data.npz'.format(network))\n",
    "train_feats = bottleneck_features['train']\n",
    "valid_feats = bottleneck_features['valid']\n",
    "test_feats = bottleneck_features['test']"
   ]
  },
  {
   "cell_type": "markdown",
   "metadata": {},
   "source": [
    "### (IMPLEMENTATION) Model Architecture\n",
    "\n",
    "Create a CNN to classify dog breed.  At the end of your code cell block, summarize the layers of your model by executing the line:\n",
    "    \n",
    "        <your model's name>.summary()\n",
    "   \n",
    "__Question 5:__ Outline the steps you took to get to your final CNN architecture and your reasoning at each step.  Describe why you think the architecture is suitable for the current problem.\n",
    "\n",
    "__Answer:__ \n",
    "\n"
   ]
  },
  {
   "cell_type": "code",
   "execution_count": 21,
   "metadata": {},
   "outputs": [
    {
     "name": "stdout",
     "output_type": "stream",
     "text": [
      "_________________________________________________________________\n",
      "Layer (type)                 Output Shape              Param #   \n",
      "=================================================================\n",
      "conv2d_4 (Conv2D)            (None, 5, 5, 24)          49176     \n",
      "_________________________________________________________________\n",
      "conv2d_5 (Conv2D)            (None, 5, 5, 24)          5208      \n",
      "_________________________________________________________________\n",
      "conv2d_6 (Conv2D)            (None, 5, 5, 24)          5208      \n",
      "_________________________________________________________________\n",
      "max_pooling2d_3 (MaxPooling2 (None, 3, 3, 24)          0         \n",
      "_________________________________________________________________\n",
      "dropout_3 (Dropout)          (None, 3, 3, 24)          0         \n",
      "_________________________________________________________________\n",
      "conv2d_7 (Conv2D)            (None, 3, 3, 48)          10416     \n",
      "_________________________________________________________________\n",
      "conv2d_8 (Conv2D)            (None, 3, 3, 48)          20784     \n",
      "_________________________________________________________________\n",
      "max_pooling2d_4 (MaxPooling2 (None, 2, 2, 48)          0         \n",
      "_________________________________________________________________\n",
      "dropout_4 (Dropout)          (None, 2, 2, 48)          0         \n",
      "_________________________________________________________________\n",
      "conv2d_9 (Conv2D)            (None, 2, 2, 96)          41568     \n",
      "_________________________________________________________________\n",
      "conv2d_10 (Conv2D)           (None, 2, 2, 96)          83040     \n",
      "_________________________________________________________________\n",
      "max_pooling2d_5 (MaxPooling2 (None, 1, 1, 96)          0         \n",
      "_________________________________________________________________\n",
      "dropout_5 (Dropout)          (None, 1, 1, 96)          0         \n",
      "_________________________________________________________________\n",
      "global_average_pooling2d_1 ( (None, 96)                0         \n",
      "_________________________________________________________________\n",
      "dense_3 (Dense)              (None, 133)               12901     \n",
      "=================================================================\n",
      "Total params: 228,301\n",
      "Trainable params: 228,301\n",
      "Non-trainable params: 0\n",
      "_________________________________________________________________\n"
     ]
    }
   ],
   "source": [
    "### Define a complex architecture.\n",
    "tl_model_complex = Sequential()\n",
    "tl_model_complex.add(Conv2D(filters=24, kernel_size=1, padding='same', input_shape=train_feats.shape[1:]))\n",
    "tl_model_complex.add(Conv2D(filters=24, kernel_size=3, padding='same'))\n",
    "tl_model_complex.add(Conv2D(filters=24, kernel_size=3, padding='same'))\n",
    "tl_model_complex.add(MaxPooling2D(padding='same'))\n",
    "tl_model_complex.add(Dropout(0.25))\n",
    "\n",
    "tl_model_complex.add(Conv2D(filters=48, kernel_size=3, padding='same'))\n",
    "tl_model_complex.add(Conv2D(filters=48, kernel_size=3, padding='same'))\n",
    "tl_model_complex.add(MaxPooling2D(padding='same'))\n",
    "tl_model_complex.add(Dropout(0.25))\n",
    "\n",
    "tl_model_complex.add(Conv2D(filters=96, kernel_size=3, padding='same'))\n",
    "tl_model_complex.add(Conv2D(filters=96, kernel_size=3, padding='same'))\n",
    "tl_model_complex.add(MaxPooling2D(padding='same'))\n",
    "tl_model_complex.add(Dropout(0.25))\n",
    "\n",
    "# tl_model.add(GlobalAveragePooling2D(input_shape=train_feats.shape[1:]))\n",
    "tl_model_complex.add(GlobalAveragePooling2D())\n",
    "tl_model_complex.add(Dense(133, activation='softmax'))\n",
    "tl_model_complex.summary()"
   ]
  },
  {
   "cell_type": "code",
   "execution_count": 22,
   "metadata": {},
   "outputs": [
    {
     "name": "stdout",
     "output_type": "stream",
     "text": [
      "_________________________________________________________________\n",
      "Layer (type)                 Output Shape              Param #   \n",
      "=================================================================\n",
      "global_average_pooling2d_2 ( (None, 2048)              0         \n",
      "_________________________________________________________________\n",
      "dense_4 (Dense)              (None, 133)               272517    \n",
      "=================================================================\n",
      "Total params: 272,517\n",
      "Trainable params: 272,517\n",
      "Non-trainable params: 0\n",
      "_________________________________________________________________\n"
     ]
    }
   ],
   "source": [
    "### Define a Simple TL architecture.\n",
    "tl_model_simple = Sequential()\n",
    "tl_model_simple.add(GlobalAveragePooling2D(input_shape=train_feats.shape[1:]))\n",
    "tl_model_simple.add(Dense(133, activation='softmax'))\n",
    "tl_model_simple.summary()"
   ]
  },
  {
   "cell_type": "markdown",
   "metadata": {},
   "source": [
    "### (IMPLEMENTATION) Compile the Model"
   ]
  },
  {
   "cell_type": "code",
   "execution_count": 23,
   "metadata": {},
   "outputs": [],
   "source": [
    "### Compile the model.\n",
    "tl_model_complex.compile(loss='categorical_crossentropy', optimizer='rmsprop', metrics=['accuracy'])\n",
    "tl_model_simple.compile(loss='categorical_crossentropy', optimizer='rmsprop', metrics=['accuracy'])"
   ]
  },
  {
   "cell_type": "markdown",
   "metadata": {},
   "source": [
    "### (IMPLEMENTATION) Train the Model\n",
    "\n",
    "Train your model in the code cell below.  Use model checkpointing to save the model that attains the best validation loss.  \n",
    "\n",
    "You are welcome to [augment the training data](https://blog.keras.io/building-powerful-image-classification-models-using-very-little-data.html), but this is not a requirement. "
   ]
  },
  {
   "cell_type": "code",
   "execution_count": 47,
   "metadata": {},
   "outputs": [
    {
     "name": "stdout",
     "output_type": "stream",
     "text": [
      "Train on 6680 samples, validate on 835 samples\n",
      "Epoch 1/10\n",
      "6528/6680 [============================>.] - ETA: 0s - loss: 4.2242 - acc: 0.1051Epoch 00000: val_loss improved from inf to 2.60719, saving model to saved_models/weights.best.complex.InceptionV3.hdf5\n",
      "6680/6680 [==============================] - 3s - loss: 4.1970 - acc: 0.1102 - val_loss: 2.6072 - val_acc: 0.3760\n",
      "Epoch 2/10\n",
      "6528/6680 [============================>.] - ETA: 0s - loss: 2.5634 - acc: 0.3629Epoch 00001: val_loss improved from 2.60719 to 2.29978, saving model to saved_models/weights.best.complex.InceptionV3.hdf5\n",
      "6680/6680 [==============================] - 2s - loss: 2.5537 - acc: 0.3657 - val_loss: 2.2998 - val_acc: 0.4347\n",
      "Epoch 3/10\n",
      "6656/6680 [============================>.] - ETA: 0s - loss: 1.8966 - acc: 0.5005Epoch 00002: val_loss improved from 2.29978 to 1.71894, saving model to saved_models/weights.best.complex.InceptionV3.hdf5\n",
      "6680/6680 [==============================] - 2s - loss: 1.8958 - acc: 0.5004 - val_loss: 1.7189 - val_acc: 0.5737\n",
      "Epoch 4/10\n",
      "6528/6680 [============================>.] - ETA: 0s - loss: 1.5513 - acc: 0.5836Epoch 00003: val_loss improved from 1.71894 to 1.66797, saving model to saved_models/weights.best.complex.InceptionV3.hdf5\n",
      "6680/6680 [==============================] - 2s - loss: 1.5469 - acc: 0.5844 - val_loss: 1.6680 - val_acc: 0.5557\n",
      "Epoch 5/10\n",
      "6656/6680 [============================>.] - ETA: 0s - loss: 1.3612 - acc: 0.6309Epoch 00004: val_loss did not improve\n",
      "6680/6680 [==============================] - 2s - loss: 1.3615 - acc: 0.6311 - val_loss: 1.6785 - val_acc: 0.5820\n",
      "Epoch 6/10\n",
      "6656/6680 [============================>.] - ETA: 0s - loss: 1.2406 - acc: 0.6575Epoch 00005: val_loss did not improve\n",
      "6680/6680 [==============================] - 2s - loss: 1.2420 - acc: 0.6572 - val_loss: 1.9796 - val_acc: 0.5353\n",
      "Epoch 7/10\n",
      "6528/6680 [============================>.] - ETA: 0s - loss: 1.1164 - acc: 0.6812Epoch 00006: val_loss improved from 1.66797 to 1.53976, saving model to saved_models/weights.best.complex.InceptionV3.hdf5\n",
      "6680/6680 [==============================] - 2s - loss: 1.1124 - acc: 0.6820 - val_loss: 1.5398 - val_acc: 0.6192\n",
      "Epoch 8/10\n",
      "6656/6680 [============================>.] - ETA: 0s - loss: 1.0565 - acc: 0.7021Epoch 00007: val_loss improved from 1.53976 to 1.53904, saving model to saved_models/weights.best.complex.InceptionV3.hdf5\n",
      "6680/6680 [==============================] - 2s - loss: 1.0571 - acc: 0.7019 - val_loss: 1.5390 - val_acc: 0.6443\n",
      "Epoch 9/10\n",
      "6656/6680 [============================>.] - ETA: 0s - loss: 0.9711 - acc: 0.7210Epoch 00008: val_loss improved from 1.53904 to 1.48996, saving model to saved_models/weights.best.complex.InceptionV3.hdf5\n",
      "6680/6680 [==============================] - 2s - loss: 0.9723 - acc: 0.7208 - val_loss: 1.4900 - val_acc: 0.6455\n",
      "Epoch 10/10\n",
      "6656/6680 [============================>.] - ETA: 0s - loss: 0.9350 - acc: 0.7296Epoch 00009: val_loss improved from 1.48996 to 1.38370, saving model to saved_models/weights.best.complex.InceptionV3.hdf5\n",
      "6680/6680 [==============================] - 2s - loss: 0.9339 - acc: 0.7298 - val_loss: 1.3837 - val_acc: 0.6790\n"
     ]
    },
    {
     "data": {
      "text/plain": [
       "<keras.callbacks.History at 0x7fd55c613080>"
      ]
     },
     "execution_count": 47,
     "metadata": {},
     "output_type": "execute_result"
    }
   ],
   "source": [
    "### Train the complex model.\n",
    "from keras.callbacks import ModelCheckpoint \n",
    "\n",
    "checkpointer = ModelCheckpoint(filepath='saved_models/weights.best.complex.{}.hdf5'.format(network), \n",
    "                               verbose=1, save_best_only=True)\n",
    "\n",
    "tl_model_complex.fit(train_feats, train_targets, \n",
    "          validation_data=(valid_feats, valid_targets),\n",
    "          epochs=10, batch_size=128, callbacks=[checkpointer], verbose=1)\n"
   ]
  },
  {
   "cell_type": "code",
   "execution_count": 48,
   "metadata": {},
   "outputs": [
    {
     "name": "stdout",
     "output_type": "stream",
     "text": [
      "Train on 6680 samples, validate on 835 samples\n",
      "Epoch 1/10\n",
      "6144/6680 [==========================>...] - ETA: 0s - loss: 1.6355 - acc: 0.6364Epoch 00000: val_loss improved from inf to 0.75446, saving model to saved_models/weights.best.simple.InceptionV3.hdf5\n",
      "6680/6680 [==============================] - 0s - loss: 1.5621 - acc: 0.6476 - val_loss: 0.7545 - val_acc: 0.7677\n",
      "Epoch 2/10\n",
      "6528/6680 [============================>.] - ETA: 0s - loss: 0.5076 - acc: 0.8483Epoch 00001: val_loss improved from 0.75446 to 0.58375, saving model to saved_models/weights.best.simple.InceptionV3.hdf5\n",
      "6680/6680 [==============================] - 0s - loss: 0.5056 - acc: 0.8482 - val_loss: 0.5838 - val_acc: 0.8263\n",
      "Epoch 3/10\n",
      "6528/6680 [============================>.] - ETA: 0s - loss: 0.3538 - acc: 0.8908Epoch 00002: val_loss did not improve\n",
      "6680/6680 [==============================] - 0s - loss: 0.3517 - acc: 0.8909 - val_loss: 0.5934 - val_acc: 0.8144\n",
      "Epoch 4/10\n",
      "6528/6680 [============================>.] - ETA: 0s - loss: 0.2670 - acc: 0.9121Epoch 00003: val_loss improved from 0.58375 to 0.51506, saving model to saved_models/weights.best.simple.InceptionV3.hdf5\n",
      "6680/6680 [==============================] - 0s - loss: 0.2656 - acc: 0.9123 - val_loss: 0.5151 - val_acc: 0.8503\n",
      "Epoch 5/10\n",
      "6400/6680 [===========================>..] - ETA: 0s - loss: 0.2053 - acc: 0.9344Epoch 00004: val_loss did not improve\n",
      "6680/6680 [==============================] - 0s - loss: 0.2070 - acc: 0.9340 - val_loss: 0.5860 - val_acc: 0.8323\n",
      "Epoch 6/10\n",
      "6528/6680 [============================>.] - ETA: 0s - loss: 0.1652 - acc: 0.9491Epoch 00005: val_loss did not improve\n",
      "6680/6680 [==============================] - 0s - loss: 0.1659 - acc: 0.9484 - val_loss: 0.5423 - val_acc: 0.8311\n",
      "Epoch 7/10\n",
      "6144/6680 [==========================>...] - ETA: 0s - loss: 0.1316 - acc: 0.9593Epoch 00006: val_loss did not improve\n",
      "6680/6680 [==============================] - 0s - loss: 0.1315 - acc: 0.9593 - val_loss: 0.5526 - val_acc: 0.8395\n",
      "Epoch 8/10\n",
      "6400/6680 [===========================>..] - ETA: 0s - loss: 0.1058 - acc: 0.9677Epoch 00007: val_loss did not improve\n",
      "6680/6680 [==============================] - 0s - loss: 0.1067 - acc: 0.9672 - val_loss: 0.5582 - val_acc: 0.8599\n",
      "Epoch 9/10\n",
      "6272/6680 [===========================>..] - ETA: 0s - loss: 0.0817 - acc: 0.9772Epoch 00008: val_loss did not improve\n",
      "6680/6680 [==============================] - 0s - loss: 0.0833 - acc: 0.9765 - val_loss: 0.5732 - val_acc: 0.8467\n",
      "Epoch 10/10\n",
      "6528/6680 [============================>.] - ETA: 0s - loss: 0.0675 - acc: 0.9841Epoch 00009: val_loss did not improve\n",
      "6680/6680 [==============================] - 0s - loss: 0.0675 - acc: 0.9838 - val_loss: 0.5862 - val_acc: 0.8575\n"
     ]
    },
    {
     "data": {
      "text/plain": [
       "<keras.callbacks.History at 0x7fd55c613b70>"
      ]
     },
     "execution_count": 48,
     "metadata": {},
     "output_type": "execute_result"
    }
   ],
   "source": [
    "### Train the simple model.\n",
    "from keras.callbacks import ModelCheckpoint \n",
    "\n",
    "checkpointer = ModelCheckpoint(filepath='saved_models/weights.best.simple.{}.hdf5'.format(network), \n",
    "                               verbose=1, save_best_only=True)\n",
    "\n",
    "tl_model_simple.fit(train_feats, train_targets, \n",
    "          validation_data=(valid_feats, valid_targets),\n",
    "          epochs=10, batch_size=128, callbacks=[checkpointer], verbose=1)\n"
   ]
  },
  {
   "cell_type": "markdown",
   "metadata": {},
   "source": [
    "### (IMPLEMENTATION) Load the Model with the Best Validation Loss"
   ]
  },
  {
   "cell_type": "code",
   "execution_count": 24,
   "metadata": {},
   "outputs": [],
   "source": [
    "### Load the model weights with the best validation loss.\n",
    "tl_model_simple.load_weights('saved_models/weights.best.simple.{}.hdf5'.format(network))\n",
    "tl_model_complex.load_weights('saved_models/weights.best.complex.{}.hdf5'.format(network))\n"
   ]
  },
  {
   "cell_type": "markdown",
   "metadata": {},
   "source": [
    "### (IMPLEMENTATION) Test the Model\n",
    "\n",
    "Try out your model on the test dataset of dog images. Ensure that your test accuracy is greater than 60%."
   ]
  },
  {
   "cell_type": "code",
   "execution_count": 50,
   "metadata": {},
   "outputs": [
    {
     "name": "stdout",
     "output_type": "stream",
     "text": [
      "Test accuracy: 81.8182%\n"
     ]
    }
   ],
   "source": [
    "### Calculate classification accuracy on the test dataset.\n",
    "tl_predictions = [np.argmax(tl_model_simple.predict(np.expand_dims(feature, axis=0))) for feature in test_feats]\n",
    "\n",
    "test_accuracy = 100*np.sum(np.array(tl_predictions)==np.argmax(test_targets, axis=1))/len(tl_predictions)\n",
    "print('Test accuracy: %.4f%%' % test_accuracy)\n"
   ]
  },
  {
   "cell_type": "code",
   "execution_count": 51,
   "metadata": {},
   "outputs": [
    {
     "name": "stdout",
     "output_type": "stream",
     "text": [
      "Test accuracy: 65.9091%\n"
     ]
    }
   ],
   "source": [
    "### Calculate classification accuracy on the test dataset.\n",
    "tl_predictions2 = [np.argmax(tl_model_complex.predict(np.expand_dims(feature, axis=0))) for feature in test_feats]\n",
    "\n",
    "test_accuracy = 100*np.sum(np.array(tl_predictions2)==np.argmax(test_targets, axis=1))/len(tl_predictions2)\n",
    "print('Test accuracy: %.4f%%' % test_accuracy)\n"
   ]
  },
  {
   "cell_type": "markdown",
   "metadata": {},
   "source": [
    "_Discussion_:\n",
    "\n",
    "I first stack a few CNN layers into my feature networks and the accurancy was always around 68.5% and then I tried a simpler network which only have one GAP layer before the final dense layer and I get 81.9% accuracy on the test dataset. This is a bit counter intuitive. \n",
    "\n",
    "I think one of the possible root cause is the dog dataset we have is realtive small and might be my model has overfit the dataset. I think data augmentation should be able to improve my complex model accuacy.\n"
   ]
  },
  {
   "cell_type": "markdown",
   "metadata": {},
   "source": [
    "### (IMPLEMENTATION) Predict Dog Breed with the Model\n",
    "\n",
    "Write a function that takes an image path as input and returns the dog breed (`Affenpinscher`, `Afghan_hound`, etc) that is predicted by your model.  \n",
    "\n",
    "Similar to the analogous function in Step 5, your function should have three steps:\n",
    "1. Extract the bottleneck features corresponding to the chosen CNN model.\n",
    "2. Supply the bottleneck features as input to the model to return the predicted vector.  Note that the argmax of this prediction vector gives the index of the predicted dog breed.\n",
    "3. Use the `dog_names` array defined in Step 0 of this notebook to return the corresponding breed.\n",
    "\n",
    "The functions to extract the bottleneck features can be found in `extract_bottleneck_features.py`, and they have been imported in an earlier code cell.  To obtain the bottleneck features corresponding to your chosen CNN architecture, you need to use the function\n",
    "\n",
    "    extract_{network}\n",
    "    \n",
    "where `{network}`, in the above filename, should be one of `VGG19`, `Resnet50`, `InceptionV3`, or `Xception`."
   ]
  },
  {
   "cell_type": "code",
   "execution_count": 25,
   "metadata": {},
   "outputs": [],
   "source": [
    "### TODO: Write a function that takes a path to an image as input\n",
    "### and returns the dog breed that is predicted by the model.\n",
    "\n",
    "def InceptionV3_predict_breed(img_path):\n",
    "    # extract bottleneck features\n",
    "    bottleneck_feature = extract_InceptionV3(path_to_tensor_cv(img_path))\n",
    "    # obtain predicted vector\n",
    "    predicted_vector = tl_model_simple.predict(bottleneck_feature)\n",
    "    # return dog breed that is predicted by the model\n",
    "    return dog_names[np.argmax(predicted_vector)]\n",
    "\n",
    "\n"
   ]
  },
  {
   "cell_type": "code",
   "execution_count": 53,
   "metadata": {},
   "outputs": [
    {
     "name": "stdout",
     "output_type": "stream",
     "text": [
      "precit: Dalmatian shoud be: Dalmatian\n",
      "precit: Bedlington_terrier shoud be: Bedlington_terrier\n",
      "precit: Afghan_hound shoud be: Afghan_hound\n"
     ]
    }
   ],
   "source": [
    "\n",
    "print('precit:', InceptionV3_predict_breed(test_files[0]), 'shoud be:', dog_names[np.argmax(test_targets[0])])\n",
    "print('precit:', InceptionV3_predict_breed(test_files[3]), 'shoud be:', dog_names[np.argmax(test_targets[3])])\n",
    "print('precit:', InceptionV3_predict_breed(test_files[10]), 'shoud be:', dog_names[np.argmax(test_targets[10])])\n"
   ]
  },
  {
   "cell_type": "markdown",
   "metadata": {},
   "source": [
    "---\n",
    "<a id='step6'></a>\n",
    "## Step 6: Write your Algorithm\n",
    "\n",
    "Write an algorithm that accepts a file path to an image and first determines whether the image contains a human, dog, or neither.  Then,\n",
    "- if a __dog__ is detected in the image, return the predicted breed.\n",
    "- if a __human__ is detected in the image, return the resembling dog breed.\n",
    "- if __neither__ is detected in the image, provide output that indicates an error.\n",
    "\n",
    "You are welcome to write your own functions for detecting humans and dogs in images, but feel free to use the `face_detector` and `dog_detector` functions developed above.  You are __required__ to use your CNN from Step 5 to predict dog breed.  \n",
    "\n",
    "Some sample output for our algorithm is provided below, but feel free to design your own user experience!\n",
    "\n",
    "![Sample Human Output](images/sample_human_output.png)\n",
    "\n",
    "\n",
    "### (IMPLEMENTATION) Write your Algorithm"
   ]
  },
  {
   "cell_type": "code",
   "execution_count": 32,
   "metadata": {},
   "outputs": [],
   "source": [
    "### TODO: Write your algorithm.\n",
    "### Feel free to use as many code cells as needed.\n",
    "\n",
    "def dog_app(img_path):\n",
    "    is_human = is_human_detector(img_path)\n",
    "    is_dog = dog_detector(img_path)\n",
    "    dog_name = InceptionV3_predict_breed(img_path)\n",
    "    if is_human:\n",
    "        print(img_path, ' is a human, and looks like a ' + dog_name)\n",
    "    elif is_dog:\n",
    "        print(img_path, 'is a dog, with breed type ' + dog_name)\n",
    "    else:\n",
    "        print(img_path, 'is not dog or human')\n",
    "    \n"
   ]
  },
  {
   "cell_type": "markdown",
   "metadata": {},
   "source": [
    "---\n",
    "<a id='step7'></a>\n",
    "## Step 7: Test Your Algorithm\n",
    "\n",
    "In this section, you will take your new algorithm for a spin!  What kind of dog does the algorithm think that __you__ look like?  If you have a dog, does it predict your dog's breed accurately?  If you have a cat, does it mistakenly think that your cat is a dog?\n",
    "\n",
    "### (IMPLEMENTATION) Test Your Algorithm on Sample Images!\n",
    "\n",
    "Test your algorithm at least six images on your computer.  Feel free to use any images you like.  Use at least two human and two dog images.  \n",
    "\n",
    "__Question 6:__ Is the output better than you expected :) ?  Or worse :( ?  Provide at least three possible points of improvement for your algorithm.\n",
    "\n",
    "__Answer:__ "
   ]
  },
  {
   "cell_type": "code",
   "execution_count": 34,
   "metadata": {},
   "outputs": [
    {
     "name": "stdout",
     "output_type": "stream",
     "text": [
      "testImages/Aleksander_Kwasniewski_0003.jpg  is a human, and looks like a Dachshund\n",
      "testImages/Ali_Mohammed_Maher_0001.jpg  is a human, and looks like a Cardigan_welsh_corgi\n",
      "testImages/Brittany_02625.jpg is a dog, with breed type Brittany\n",
      "testImages/Irish_setter_05816.jpg is a dog, with breed type Dachshund\n",
      "testImages/Julianna_Margulies_0001.jpg  is a human, and looks like a Chinese_crested\n",
      "testImages/Poodle_07903.jpg is a dog, with breed type Poodle\n",
      "testImages/Silky_terrier_08040.jpg is a dog, with breed type Silky_terrier\n",
      "testImages/cat.jpg is not dog or human\n",
      "testImages/mug.jpg is not dog or human\n"
     ]
    }
   ],
   "source": [
    "## TODO: Execute your algorithm from Step 6 on\n",
    "## at least 6 images on your computer.\n",
    "## Feel free to use as many code cells as needed.\n",
    "test_imgs = sorted(glob(\"testImages/*\"))\n",
    "for img in test_imgs:\n",
    "    dog_app(img)"
   ]
  },
  {
   "cell_type": "markdown",
   "metadata": {},
   "source": [
    "I tested 9 images and all the human images have been correctly detected. All the non-human and non-dog images also have been detected. There are 4 dog images, and the dog app has correctly detected 3 breed types but failed on 'rish_setter_05816.jpg'. Overall, I believe the output better than I expected.\n",
    "\n",
    "Points to improve:\n",
    "- I should use data augmentation technique to avoid overfitting\n",
    "- The inference time is too long to test one image. I am currently using InceptionV3 model to perform feature extraction and a simpler model should be used. \n",
    "- Need figure out why in Question 5, a simpler model works far better than a complex model.\n",
    "\n"
   ]
  },
  {
   "cell_type": "code",
   "execution_count": null,
   "metadata": {},
   "outputs": [],
   "source": []
  }
 ],
 "metadata": {
  "anaconda-cloud": {},
  "kernelspec": {
   "display_name": "Python 3",
   "language": "python",
   "name": "python3"
  },
  "language_info": {
   "codemirror_mode": {
    "name": "ipython",
    "version": 3
   },
   "file_extension": ".py",
   "mimetype": "text/x-python",
   "name": "python",
   "nbconvert_exporter": "python",
   "pygments_lexer": "ipython3",
   "version": "3.5.2"
  }
 },
 "nbformat": 4,
 "nbformat_minor": 1
}
